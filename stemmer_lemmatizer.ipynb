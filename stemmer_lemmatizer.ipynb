{
 "cells": [
  {
   "cell_type": "code",
   "execution_count": 4,
   "metadata": {},
   "outputs": [],
   "source": [
    "import nltk\n",
    "from nltk.stem import SnowballStemmer"
   ]
  },
  {
   "cell_type": "code",
   "execution_count": 12,
   "metadata": {},
   "outputs": [
    {
     "name": "stdout",
     "output_type": "stream",
     "text": [
      "['tri', 'tri', 'tri', 'tri']\n",
      "['famili', 'famili']\n",
      "['is', 'are', 'am']\n",
      "['qualiti', 'qualiti', 'qualiti']\n"
     ]
    }
   ],
   "source": [
    "stemmer = SnowballStemmer('english')\n",
    "print([stemmer.stem(word) for word in ['try','tried','trying','tried']])\n",
    "print([stemmer.stem(word) for word in ['family','families']])\n",
    "print([stemmer.stem(word) for word in ['is','are','am']])\n",
    "print([stemmer.stem(word) for word in ['quality','qualities','qualitied']])"
   ]
  },
  {
   "cell_type": "code",
   "execution_count": 13,
   "metadata": {},
   "outputs": [
    {
     "name": "stdout",
     "output_type": "stream",
     "text": [
      "['tri', 'tri', 'tri', 'tri']\n",
      "['famili', 'famili']\n",
      "['is', 'are', 'am']\n",
      "['qualiti', 'qualiti', 'qualiti']\n"
     ]
    }
   ],
   "source": [
    "from nltk.stem.porter import PorterStemmer\n",
    "stemmer = PorterStemmer()\n",
    "print([stemmer.stem(word) for word in ['try','tried','trying','tried']])\n",
    "print([stemmer.stem(word) for word in ['family','families']])\n",
    "print([stemmer.stem(word) for word in ['is','are','am']])\n",
    "print([stemmer.stem(word) for word in ['quality','qualities','qualitied']])"
   ]
  },
  {
   "cell_type": "code",
   "execution_count": 15,
   "metadata": {},
   "outputs": [
    {
     "name": "stdout",
     "output_type": "stream",
     "text": [
      "[nltk_data] Downloading package wordnet to\n",
      "[nltk_data]     C:\\Users\\frank\\AppData\\Roaming\\nltk_data...\n",
      "[nltk_data]   Unzipping corpora\\wordnet.zip.\n",
      "['try', 'tried', 'trying', 'tried']\n",
      "['family', 'family']\n",
      "['is', 'are', 'am']\n",
      "['quality', 'quality', 'qualitied']\n"
     ]
    }
   ],
   "source": [
    "from nltk.stem import WordNetLemmatizer\n",
    "nltk.download('wordnet')\n",
    "wordnet_lemmatizer = WordNetLemmatizer()\n",
    "print([wordnet_lemmatizer.lemmatize(word) for word in ['try','tried','trying','tried']])\n",
    "print([wordnet_lemmatizer.lemmatize(word) for word in ['family','families']])\n",
    "print([wordnet_lemmatizer.lemmatize(word) for word in ['is','are','am']])\n",
    "print([wordnet_lemmatizer.lemmatize(word) for word in ['quality','qualities','qualitied']])\n"
   ]
  },
  {
   "cell_type": "code",
   "execution_count": 21,
   "metadata": {},
   "outputs": [
    {
     "name": "stdout",
     "output_type": "stream",
     "text": [
      "[nltk_data] Downloading package wordnet to\n",
      "[nltk_data]     C:\\Users\\frank\\AppData\\Roaming\\nltk_data...\n",
      "[nltk_data]   Package wordnet is already up-to-date!\n",
      "['try', 'try', 'try', 'try']\n",
      "['family', 'family']\n",
      "['be', 'be', 'be']\n",
      "['quality', 'quality', 'qualitied']\n"
     ]
    }
   ],
   "source": [
    "from nltk.stem import WordNetLemmatizer\n",
    "nltk.download('wordnet')\n",
    "wordnet_lemmatizer = WordNetLemmatizer()\n",
    "print([wordnet_lemmatizer.lemmatize(word,pos='v') for word in ['try','tried','trying','tried']])\n",
    "print([wordnet_lemmatizer.lemmatize(word) for word in ['family','families']])\n",
    "print([wordnet_lemmatizer.lemmatize(word,pos='v') for word in ['is','are','am']])\n",
    "print([wordnet_lemmatizer.lemmatize(word) for word in ['quality','qualities','qualitied']])"
   ]
  },
  {
   "cell_type": "code",
   "execution_count": null,
   "metadata": {},
   "outputs": [],
   "source": []
  }
 ],
 "metadata": {
  "kernelspec": {
   "display_name": "Python 3",
   "language": "python",
   "name": "python3"
  },
  "language_info": {
   "codemirror_mode": {
    "name": "ipython",
    "version": 3
   },
   "file_extension": ".py",
   "mimetype": "text/x-python",
   "name": "python",
   "nbconvert_exporter": "python",
   "pygments_lexer": "ipython3",
   "version": "3.6.6"
  }
 },
 "nbformat": 4,
 "nbformat_minor": 2
}
