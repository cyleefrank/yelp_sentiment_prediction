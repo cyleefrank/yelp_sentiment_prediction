{
 "cells": [
  {
   "cell_type": "code",
   "execution_count": 1,
   "metadata": {},
   "outputs": [
    {
     "name": "stderr",
     "output_type": "stream",
     "text": [
      "Using TensorFlow backend.\n"
     ]
    },
    {
     "data": {
      "text/plain": [
       "'\\nClean each document by removing unnecesary characters and splitting by space.\\n'"
      ]
     },
     "execution_count": 1,
     "metadata": {},
     "output_type": "execute_result"
    }
   ],
   "source": [
    "'''\n",
    "Read reviews from a JSON-formatted file into an array.\n",
    "'''\n",
    "import json\n",
    "import string\n",
    "import re\n",
    "import keras\n",
    "import numpy as np\n",
    "from keras.preprocessing.text import Tokenizer\n",
    "import matplotlib.pyplot as plt\n",
    "from keras.preprocessing.sequence import pad_sequences\n",
    "from keras.models import Sequential\n",
    "from keras.layers import Dense, Dropout\n",
    "from keras.layers import Embedding\n",
    "from keras.layers import LSTM\n",
    "from keras.optimizers import SGD, Adam\n",
    "from sklearn.metrics import accuracy_score\n",
    "# NLTK\n",
    "import nltk\n",
    "from nltk.corpus import stopwords\n",
    "from nltk.stem import SnowballStemmer\n",
    "\n",
    "lines = [];\n",
    "num_pos = 0;\n",
    "num_neg = 0;\n",
    "num_total = 75000;\n",
    "\n",
    "with open('/Users/edgarleung/Downloads/yelp_dataset/yelp_academic_dataset_review.json', 'r',encoding='utf8') as f:\n",
    "    for line in f:\n",
    "        if (len(lines) >= (num_total * 2)):\n",
    "            break;\n",
    "\n",
    "        json_info = json.loads(line);\n",
    "\n",
    "        if json_info['stars'] > 3:\n",
    "            if num_pos > num_total:\n",
    "                continue;\n",
    "            num_pos = num_pos + 1;\n",
    "        elif json_info['stars'] < 3:\n",
    "            if num_neg > num_total:\n",
    "                continue;\n",
    "            num_neg = num_neg + 1;\n",
    "        else:\n",
    "            continue;\n",
    "\n",
    "        lines.append(json.loads(line));\n",
    "\n",
    "'''\n",
    "Separate line data into reviews and labels\n",
    "'''\n",
    "reviews = [line['text'] for line in lines];\n",
    "\n",
    "stars = [line['stars'] for line in lines];\n",
    "labels = ['1' if star > 3 else '0' for star in stars];\n",
    "\n",
    "'''\n",
    "Clean each document by removing unnecesary characters and splitting by space.\n",
    "'''"
   ]
  },
  {
   "cell_type": "code",
   "execution_count": 2,
   "metadata": {},
   "outputs": [
    {
     "name": "stdout",
     "output_type": "stream",
     "text": [
      "The pizza was okay. Not the best I've had. I prefer Biaggio's on Flamingo / Fort Apache. The chef there can make a MUCH better NY style pizza. The pizzeria @ Cosmo was over priced for the quality and lack of personality in the food. Biaggio's is a much better pick if youre going for italian - family owned, home made recipes, people that actually CARE if you like their food. You dont get that at a pizzeria in a casino. I dont care what you say...\n",
      "2\n",
      "0\n"
     ]
    }
   ],
   "source": [
    "print(reviews[0])\n",
    "print(stars[0])\n",
    "print(labels[0])"
   ]
  },
  {
   "cell_type": "code",
   "execution_count": 3,
   "metadata": {},
   "outputs": [],
   "source": [
    "def clean_document1(doco):\n",
    "    punctuation = string.punctuation + '\\n\\n';\n",
    "    punc_replace = ''.join([' ' for s in punctuation]);\n",
    "    doco_clean = doco.replace('-', ' ');\n",
    "    doco_alphas = re.sub(r'\\W +', ' ', doco_clean)\n",
    "    trans_table = str.maketrans(punctuation, punc_replace);\n",
    "    doco_clean = ' '.join([word.translate(trans_table) for word in doco_alphas.split(' ')]);\n",
    "    doco_clean = doco_clean.split(' ');\n",
    "    doco_clean = [word.lower() for word in doco_clean if len(word) > 0];\n",
    "\n",
    "    return doco_clean;\n"
   ]
  },
  {
   "cell_type": "code",
   "execution_count": 4,
   "metadata": {},
   "outputs": [
    {
     "data": {
      "text/plain": [
       "'the pizza was okay not the best i ve had i prefer biaggio s on flamingo fort apache the chef there can make a much better ny style pizza the pizzeria cosmo was over priced for the quality and lack of personality in the food biaggio s is a much better pick if youre going for italian family owned home made recipes people that actually care if you like their food you dont get that at a pizzeria in a casino i dont care what you say'"
      ]
     },
     "execution_count": 4,
     "metadata": {},
     "output_type": "execute_result"
    }
   ],
   "source": [
    "# Generate a cleaned reviews array from original review texts\n",
    "review_cleans = [clean_document1(doc) for doc in reviews];\n",
    "' '.join(review_cleans[0])"
   ]
  },
  {
   "cell_type": "code",
   "execution_count": 5,
   "metadata": {},
   "outputs": [],
   "source": [
    "stopwords = {'a',\n",
    " 'ain',\n",
    " 'am',\n",
    " 'an',\n",
    " 'and',\n",
    " 'any', \n",
    " 'as',\n",
    " 'at',\n",
    " 'be',\n",
    " 'been',\n",
    " 'being',\n",
    " 'by',\n",
    " 'd',\n",
    " 'during',\n",
    " 'each',\n",
    " 'for',\n",
    " 'from',\n",
    " 'further',\n",
    " 'he',\n",
    " 'her',\n",
    " 'here',\n",
    " 'hers',\n",
    " 'herself',\n",
    " 'him',\n",
    " 'himself',\n",
    " 'his',\n",
    " 'how',\n",
    " 'i',\n",
    " 'if',\n",
    " 'in',\n",
    " 'into',\n",
    " 'itself',\n",
    " 'just',\n",
    " 'll',\n",
    " 'm',\n",
    " 'ma',\n",
    " 'me',\n",
    " 'my',\n",
    " 'myself',\n",
    " 'now',\n",
    " 'o',\n",
    " 'of',\n",
    " 'on',\n",
    " 'once',\n",
    " 'only',\n",
    " 'or',\n",
    " 'other',\n",
    " 'our',\n",
    " 'ours',\n",
    " 'ourselves',\n",
    " 'out',\n",
    " 'over',\n",
    " 'own',\n",
    " 're',\n",
    " 's',\n",
    " 'she',\n",
    " \"she's\",\n",
    " 'so',\n",
    " 'some',\n",
    " 'such',\n",
    " 't',\n",
    " 'than',\n",
    " 'that',\n",
    " \"that'll\",\n",
    " 'the',\n",
    " 'their',\n",
    " 'theirs',\n",
    " 'them',\n",
    " 'themselves',\n",
    " 'then',\n",
    " 'there',\n",
    " 'these',\n",
    " 'they',\n",
    " 'this',\n",
    " 'those',\n",
    " 'through',\n",
    " 'to',\n",
    " 've',\n",
    " 'we',\n",
    " 'what',\n",
    " 'when',\n",
    " 'where',\n",
    " 'which',\n",
    " 'while',\n",
    " 'who',\n",
    " 'whom',\n",
    " 'why',\n",
    " 'will',\n",
    " 'with',\n",
    " 'y',\n",
    " 'you',\n",
    " \"you'd\",\n",
    " \"you'll\",\n",
    " \"you're\",\n",
    " \"you've\",\n",
    " 'your',\n",
    " 'yours',\n",
    " 'yourself',\n",
    " 'yourselves'}\n",
    "\n",
    "def clean_document2(doco):\n",
    "    ## Remove stop words\n",
    "    doco = [w for w in doco if not w in stopwords]\n",
    "    \n",
    "    stemmer = SnowballStemmer('english')\n",
    "    stemmed_words = [stemmer.stem(word) for word in doco]\n",
    "\n",
    "    return doco"
   ]
  },
  {
   "cell_type": "code",
   "execution_count": 6,
   "metadata": {},
   "outputs": [
    {
     "data": {
      "text/plain": [
       "'pizza was okay not best had prefer biaggio flamingo fort apache chef can make much better ny style pizza pizzeria cosmo was priced quality lack personality food biaggio is much better pick youre going italian family owned home made recipes people actually care like food dont get pizzeria casino dont care say'"
      ]
     },
     "execution_count": 6,
     "metadata": {},
     "output_type": "execute_result"
    }
   ],
   "source": [
    "review_cleans2 = [clean_document2(doc) for doc in review_cleans];\n",
    "review_cleans = review_cleans2\n",
    "' '.join(review_cleans[0])"
   ]
  },
  {
   "cell_type": "code",
   "execution_count": 7,
   "metadata": {},
   "outputs": [
    {
     "data": {
      "text/plain": [
       "'pizza was okay not best had prefer biaggio flamingo fort apache chef can make much better ny style pizza pizzeria cosmo was priced quality lack personality food biaggio is much better pick youre going italian family owned home made recipes people actually care like food dont get pizzeria casino dont care say'"
      ]
     },
     "execution_count": 7,
     "metadata": {},
     "output_type": "execute_result"
    }
   ],
   "source": [
    "sentences = [' '.join(r) for r in review_cleans]\n",
    "sentences[0]"
   ]
  },
  {
   "cell_type": "code",
   "execution_count": 8,
   "metadata": {},
   "outputs": [
    {
     "data": {
      "text/plain": [
       "'116 1 461 4 53 7 1484 20912 4351 6184 7241 584 27 65 67 73 2100 536 116 4651 5383 1 542 151 738 2447 10 20912 3 67 73 396 7518 60 683 209 1479 131 69 4668 55 216 165 21 10 849 20 4651 933 849 165 93'"
      ]
     },
     "execution_count": 8,
     "metadata": {},
     "output_type": "execute_result"
    }
   ],
   "source": [
    "# Use a Keras Tokenizer and fit on the sentences\n",
    "tokenizer = Tokenizer();\n",
    "tokenizer.fit_on_texts(sentences);\n",
    "reviews_encoded = np.array(tokenizer.texts_to_sequences(sentences));\n",
    "' '.join(map(str,reviews_encoded[0]))"
   ]
  },
  {
   "cell_type": "code",
   "execution_count": 9,
   "metadata": {},
   "outputs": [],
   "source": [
    "sequence_dict = tokenizer.word_index;\n",
    "# reverse - index to word\n",
    "word_dict = dict((num, val) for (val, num) in sequence_dict.items());"
   ]
  },
  {
   "cell_type": "code",
   "execution_count": 10,
   "metadata": {},
   "outputs": [],
   "source": [
    "#for i,(a,b) in enumerate(zip(reviews_encoded,text_sequences)):\n",
    "#    if (a!=b):\n",
    "#        print(review_cleans[i])"
   ]
  },
  {
   "cell_type": "code",
   "execution_count": 11,
   "metadata": {},
   "outputs": [
    {
     "data": {
      "image/png": "[encoded data removed]",
      "text/plain": [
       "<Figure size 432x288 with 1 Axes>"
      ]
     },
     "metadata": {
      "needs_background": "light"
     },
     "output_type": "display_data"
    }
   ],
   "source": [
    "# Plot a Histogram of length of reviews\n",
    "lengths = [len(x) for x in reviews_encoded];\n",
    "plt.hist(lengths, bins=range(200))\n",
    "plt.show()"
   ]
  },
  {
   "cell_type": "code",
   "execution_count": 12,
   "metadata": {},
   "outputs": [],
   "source": [
    "# Truncate and Pad reviews at a Maximum cap of 60 words.\n",
    "max_cap = 60;\n",
    "X = pad_sequences(reviews_encoded, maxlen=max_cap, truncating='post')"
   ]
  },
  {
   "cell_type": "code",
   "execution_count": 13,
   "metadata": {},
   "outputs": [
    {
     "data": {
      "text/plain": [
       "'0 0 0 0 0 0 0 0 pizza was okay not best had prefer biaggio flamingo fort apache chef can make much better ny style pizza pizzeria cosmo was priced quality lack personality food biaggio is much better pick youre going italian family owned home made recipes people actually care like food dont get pizzeria casino dont care say'"
      ]
     },
     "execution_count": 13,
     "metadata": {},
     "output_type": "execute_result"
    }
   ],
   "source": [
    "' '.join(list(map(lambda x: word_dict[x] if x>0 else '0', X[0])))"
   ]
  },
  {
   "cell_type": "code",
   "execution_count": 14,
   "metadata": {},
   "outputs": [
    {
     "data": {
      "text/plain": [
       "array([[0, 1],\n",
       "       [1, 0],\n",
       "       [0, 1],\n",
       "       ...,\n",
       "       [0, 1],\n",
       "       [0, 1],\n",
       "       [0, 1]])"
      ]
     },
     "execution_count": 14,
     "metadata": {},
     "output_type": "execute_result"
    }
   ],
   "source": [
    "# Obtain a One-hot Y array for each review label.\n",
    "Y = np.array([[0,1] if '0' in label else [1,0] for label in labels])\n",
    "\n",
    "Y"
   ]
  },
  {
   "cell_type": "code",
   "execution_count": 15,
   "metadata": {},
   "outputs": [],
   "source": [
    "# Get a randomized sequence of positions to shuffle reviews\n",
    "np.random.seed(1024);\n",
    "random_posits = np.arange(len(X))\n",
    "np.random.shuffle(random_posits);\n",
    "\n",
    "# Shuffle X and Y\n",
    "X = X[random_posits];\n",
    "Y = Y[random_posits];"
   ]
  },
  {
   "cell_type": "code",
   "execution_count": 16,
   "metadata": {},
   "outputs": [],
   "source": [
    "# Divide the reviews into Training, Dev, and Test data.\n",
    "train_cap = int(0.85 * len(X));\n",
    "dev_cap = int(0.93 * len(X));\n",
    "\n",
    "X_train, Y_train = X[:train_cap], Y[:train_cap];\n",
    "X_dev, Y_dev = X[train_cap:dev_cap], Y[train_cap:dev_cap];\n",
    "X_test, Y_test = X[dev_cap:], Y[dev_cap:]\n"
   ]
  },
  {
   "cell_type": "code",
   "execution_count": 17,
   "metadata": {},
   "outputs": [
    {
     "name": "stdout",
     "output_type": "stream",
     "text": [
      "_________________________________________________________________\n",
      "Layer (type)                 Output Shape              Param #   \n",
      "=================================================================\n",
      "embedding_1 (Embedding)      (None, 60, 60)            5960760   \n",
      "_________________________________________________________________\n",
      "lstm_1 (LSTM)                (None, 60, 150)           126600    \n",
      "_________________________________________________________________\n",
      "lstm_2 (LSTM)                (None, 150)               180600    \n",
      "_________________________________________________________________\n",
      "dense_1 (Dense)              (None, 150)               22650     \n",
      "_________________________________________________________________\n",
      "dense_2 (Dense)              (None, 150)               22650     \n",
      "_________________________________________________________________\n",
      "dense_3 (Dense)              (None, 2)                 302       \n",
      "=================================================================\n",
      "Total params: 6,313,562\n",
      "Trainable params: 6,313,562\n",
      "Non-trainable params: 0\n",
      "_________________________________________________________________\n",
      "None\n"
     ]
    }
   ],
   "source": [
    "model = Sequential();\n",
    "model.add(Embedding(len(word_dict)+1, max_cap, input_length=max_cap));\n",
    "model.add(LSTM(150, return_sequences=True));\n",
    "model.add(LSTM(150));\n",
    "model.add(Dense(150, activation='relu'));\n",
    "model.add(Dense(150, activation='relu'));\n",
    "model.add(Dense(2, activation='softmax'));\n",
    "print(model.summary());"
   ]
  },
  {
   "cell_type": "code",
   "execution_count": 18,
   "metadata": {},
   "outputs": [],
   "source": [
    "#from IPython.display import SVG\n",
    "#from keras.utils.vis_utils import model_to_dot\n",
    "#SVG(model_to_dot(model, show_shapes=True).create(prog='dot', format='svg'))\n"
   ]
  },
  {
   "cell_type": "code",
   "execution_count": 19,
   "metadata": {},
   "outputs": [
    {
     "name": "stdout",
     "output_type": "stream",
     "text": [
      "Train on 127500 samples, validate on 12000 samples\n",
      "Epoch 1/10\n",
      "127500/127500 [==============================] - 951s 7ms/step - loss: 0.2176 - acc: 0.9127 - val_loss: 0.1760 - val_acc: 0.9326\n",
      "Epoch 2/10\n",
      "127500/127500 [==============================] - 1024s 8ms/step - loss: 0.1291 - acc: 0.9514 - val_loss: 0.1991 - val_acc: 0.9305\n",
      "Epoch 3/10\n",
      "127500/127500 [==============================] - 1038s 8ms/step - loss: 0.0869 - acc: 0.9688 - val_loss: 0.1995 - val_acc: 0.9323\n",
      "Epoch 4/10\n",
      "127500/127500 [==============================] - 1013s 8ms/step - loss: 0.0576 - acc: 0.9801 - val_loss: 0.2258 - val_acc: 0.9301\n",
      "Epoch 5/10\n",
      "127500/127500 [==============================] - 1056s 8ms/step - loss: 0.0383 - acc: 0.9877 - val_loss: 0.2479 - val_acc: 0.9247\n",
      "Epoch 6/10\n",
      "127500/127500 [==============================] - 1050s 8ms/step - loss: 0.0266 - acc: 0.9913 - val_loss: 0.3202 - val_acc: 0.9264\n",
      "Epoch 7/10\n",
      "127500/127500 [==============================] - 1009s 8ms/step - loss: 0.0173 - acc: 0.9947 - val_loss: 0.3621 - val_acc: 0.9254\n",
      "Epoch 8/10\n",
      "127500/127500 [==============================] - 1176s 9ms/step - loss: 0.0126 - acc: 0.9963 - val_loss: 0.4012 - val_acc: 0.9248\n",
      "Epoch 9/10\n",
      "127500/127500 [==============================] - 1481s 12ms/step - loss: 0.0091 - acc: 0.9973 - val_loss: 0.4574 - val_acc: 0.9236\n",
      "Epoch 10/10\n",
      "127500/127500 [==============================] - 683s 5ms/step - loss: 0.0068 - acc: 0.9981 - val_loss: 0.4399 - val_acc: 0.9259\n"
     ]
    }
   ],
   "source": [
    "optimizer = Adam(lr=0.001, decay=0.0001);\n",
    "model.compile(loss='binary_crossentropy', optimizer=optimizer, metrics=['accuracy'])\n",
    "# fit model\n",
    "history = model.fit(X_train, Y_train, batch_size=128, epochs=10, validation_data=(X_dev, Y_dev))\n"
   ]
  },
  {
   "cell_type": "code",
   "execution_count": 20,
   "metadata": {},
   "outputs": [
    {
     "data": {
      "text/plain": [
       "0.9291428571428572"
      ]
     },
     "execution_count": 20,
     "metadata": {},
     "output_type": "execute_result"
    }
   ],
   "source": [
    "# Obtain predictions\n",
    "predictions = model.predict_classes(X_test)\n",
    "\n",
    "# Convert Y_test to the same format as predictions\n",
    "actuals = [0 if y[0] == 1 else 1 for y in Y_test];\n",
    "\n",
    "# Use SkLearn's Metrics module\n",
    "accuracy_score(predictions, actuals)"
   ]
  },
  {
   "cell_type": "code",
   "execution_count": 21,
   "metadata": {},
   "outputs": [
    {
     "data": {
      "image/png": "[encoded data removed]",
      "text/plain": [
       "<Figure size 432x288 with 1 Axes>"
      ]
     },
     "metadata": {
      "needs_background": "light"
     },
     "output_type": "display_data"
    },
    {
     "data": {
      "image/png": "[encoded data removed]",
      "text/plain": [
       "<Figure size 432x288 with 1 Axes>"
      ]
     },
     "metadata": {
      "needs_background": "light"
     },
     "output_type": "display_data"
    }
   ],
   "source": [
    "# Plot training & validation accuracy values\n",
    "plt.plot(history.history['acc'])\n",
    "plt.plot(history.history['val_acc'])\n",
    "plt.title('Model accuracy')\n",
    "plt.ylabel('Accuracy')\n",
    "plt.xlabel('Epoch')\n",
    "plt.legend(['Train', 'Test'], loc='upper left')\n",
    "plt.show()\n",
    "\n",
    "# Plot training & validation loss values\n",
    "plt.plot(history.history['loss'])\n",
    "plt.plot(history.history['val_loss'])\n",
    "plt.title('Model loss')\n",
    "plt.ylabel('Loss')\n",
    "plt.xlabel('Epoch')\n",
    "plt.legend(['Train', 'Test'], loc='upper left')\n",
    "plt.show()"
   ]
  },
  {
   "cell_type": "code",
   "execution_count": null,
   "metadata": {},
   "outputs": [],
   "source": []
  }
 ],
 "metadata": {
  "kernelspec": {
   "display_name": "Python 3",
   "language": "python",
   "name": "python3"
  },
  "language_info": {
   "codemirror_mode": {
    "name": "ipython",
    "version": 3
   },
   "file_extension": ".py",
   "mimetype": "text/x-python",
   "name": "python",
   "nbconvert_exporter": "python",
   "pygments_lexer": "ipython3",
   "version": "3.6.6"
  }
 },
 "nbformat": 4,
 "nbformat_minor": 2
}
