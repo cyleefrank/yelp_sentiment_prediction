{
 "cells": [
  {
   "cell_type": "code",
   "execution_count": 1,
   "metadata": {},
   "outputs": [
    {
     "name": "stderr",
     "output_type": "stream",
     "text": [
      "Using TensorFlow backend.\n"
     ]
    },
    {
     "data": {
      "text/plain": [
       "'\\nClean each document by removing unnecesary characters and splitting by space.\\n'"
      ]
     },
     "execution_count": 1,
     "metadata": {},
     "output_type": "execute_result"
    }
   ],
   "source": [
    "'''\n",
    "Read reviews from a JSON-formatted file into an array.\n",
    "'''\n",
    "import json\n",
    "import string\n",
    "import re\n",
    "import keras\n",
    "import numpy as np\n",
    "from keras.preprocessing.text import Tokenizer\n",
    "import matplotlib.pyplot as plt\n",
    "from keras.preprocessing.sequence import pad_sequences\n",
    "from keras.models import Sequential\n",
    "from keras.layers import Dense, Dropout\n",
    "from keras.layers import Embedding\n",
    "from keras.layers import LSTM\n",
    "from keras.optimizers import SGD, Adam\n",
    "from sklearn.metrics import accuracy_score\n",
    "# NLTK\n",
    "import nltk\n",
    "from nltk.corpus import stopwords\n",
    "from nltk.stem import SnowballStemmer\n",
    "\n",
    "lines = [];\n",
    "num_pos = 0;\n",
    "num_neg = 0;\n",
    "num_total = 75000;\n",
    "\n",
    "#with open('/Users/edgarleung/Downloads/yelp_dataset/yelp_academic_dataset_review.json', 'r',encoding='utf8') as f:\n",
    "with open('data/yelp_academic_dataset_review.json', 'r',encoding='utf8') as f:\n",
    "    for line in f:\n",
    "        if (len(lines) >= (num_total * 2)):\n",
    "            break;\n",
    "\n",
    "        json_info = json.loads(line);\n",
    "\n",
    "        if json_info['stars'] > 3:\n",
    "            if num_pos > num_total:\n",
    "                continue;\n",
    "            num_pos = num_pos + 1;\n",
    "        elif json_info['stars'] < 3:\n",
    "            if num_neg > num_total:\n",
    "                continue;\n",
    "            num_neg = num_neg + 1;\n",
    "        else:\n",
    "            continue;\n",
    "\n",
    "        lines.append(json.loads(line));\n",
    "\n",
    "'''\n",
    "Separate line data into reviews and labels\n",
    "'''\n",
    "reviews = [line['text'] for line in lines];\n",
    "\n",
    "stars = [line['stars'] for line in lines];\n",
    "labels = ['1' if star > 3 else '0' for star in stars];\n",
    "\n",
    "'''\n",
    "Clean each document by removing unnecesary characters and splitting by space.\n",
    "'''"
   ]
  },
  {
   "cell_type": "code",
   "execution_count": 2,
   "metadata": {},
   "outputs": [
    {
     "name": "stdout",
     "output_type": "stream",
     "text": [
      "The pizza was okay. Not the best I've had. I prefer Biaggio's on Flamingo / Fort Apache. The chef there can make a MUCH better NY style pizza. The pizzeria @ Cosmo was over priced for the quality and lack of personality in the food. Biaggio's is a much better pick if youre going for italian - family owned, home made recipes, people that actually CARE if you like their food. You dont get that at a pizzeria in a casino. I dont care what you say...\n",
      "2\n",
      "0\n"
     ]
    }
   ],
   "source": [
    "print(reviews[0])\n",
    "print(stars[0])\n",
    "print(labels[0])"
   ]
  },
  {
   "cell_type": "code",
   "execution_count": 3,
   "metadata": {},
   "outputs": [],
   "source": [
    "def clean_document1(doco):\n",
    "    punctuation = string.punctuation + '\\n\\n';\n",
    "    punc_replace = ''.join([' ' for s in punctuation]);\n",
    "    doco_clean = doco.replace('-', ' ');\n",
    "    doco_alphas = re.sub(r'\\W +', ' ', doco_clean)\n",
    "    trans_table = str.maketrans(punctuation, punc_replace);\n",
    "    doco_clean = ' '.join([word.translate(trans_table) for word in doco_alphas.split(' ')]);\n",
    "    doco_clean = doco_clean.split(' ');\n",
    "    doco_clean = [word.lower() for word in doco_clean if len(word) > 0];\n",
    "\n",
    "    return doco_clean;\n"
   ]
  },
  {
   "cell_type": "code",
   "execution_count": 4,
   "metadata": {},
   "outputs": [
    {
     "data": {
      "text/plain": [
       "'the pizza was okay not the best i ve had i prefer biaggio s on flamingo fort apache the chef there can make a much better ny style pizza the pizzeria cosmo was over priced for the quality and lack of personality in the food biaggio s is a much better pick if youre going for italian family owned home made recipes people that actually care if you like their food you dont get that at a pizzeria in a casino i dont care what you say'"
      ]
     },
     "execution_count": 4,
     "metadata": {},
     "output_type": "execute_result"
    }
   ],
   "source": [
    "# Generate a cleaned reviews array from original review texts\n",
    "review_cleans = [clean_document1(doc) for doc in reviews];\n",
    "' '.join(review_cleans[0])"
   ]
  },
  {
   "cell_type": "code",
   "execution_count": 5,
   "metadata": {},
   "outputs": [],
   "source": [
    "stopwords = {'a',\n",
    " 'ain',\n",
    " 'am',\n",
    " 'an',\n",
    " 'and',\n",
    " 'any', \n",
    " 'as',\n",
    " 'at',\n",
    " 'be',\n",
    " 'been',\n",
    " 'being',\n",
    " 'by',\n",
    " 'd',\n",
    " 'during',\n",
    " 'each',\n",
    " 'for',\n",
    " 'from',\n",
    " 'further',\n",
    " 'he',\n",
    " 'her',\n",
    " 'here',\n",
    " 'hers',\n",
    " 'herself',\n",
    " 'him',\n",
    " 'himself',\n",
    " 'his',\n",
    " 'how',\n",
    " 'i',\n",
    " 'if',\n",
    " 'in',\n",
    " 'into',\n",
    " 'itself',\n",
    " 'just',\n",
    " 'll',\n",
    " 'm',\n",
    " 'ma',\n",
    " 'me',\n",
    " 'my',\n",
    " 'myself',\n",
    " 'now',\n",
    " 'o',\n",
    " 'of',\n",
    " 'on',\n",
    " 'once',\n",
    " 'only',\n",
    " 'or',\n",
    " 'other',\n",
    " 'our',\n",
    " 'ours',\n",
    " 'ourselves',\n",
    " 'out',\n",
    " 'over',\n",
    " 'own',\n",
    " 're',\n",
    " 's',\n",
    " 'she',\n",
    " \"she's\",\n",
    " 'so',\n",
    " 'some',\n",
    " 'such',\n",
    " 't',\n",
    " 'than',\n",
    " 'that',\n",
    " \"that'll\",\n",
    " 'the',\n",
    " 'their',\n",
    " 'theirs',\n",
    " 'them',\n",
    " 'themselves',\n",
    " 'then',\n",
    " 'there',\n",
    " 'these',\n",
    " 'they',\n",
    " 'this',\n",
    " 'those',\n",
    " 'through',\n",
    " 'to',\n",
    " 've',\n",
    " 'we',\n",
    " 'what',\n",
    " 'when',\n",
    " 'where',\n",
    " 'which',\n",
    " 'while',\n",
    " 'who',\n",
    " 'whom',\n",
    " 'why',\n",
    " 'will',\n",
    " 'with',\n",
    " 'y',\n",
    " 'you',\n",
    " \"you'd\",\n",
    " \"you'll\",\n",
    " \"you're\",\n",
    " \"you've\",\n",
    " 'your',\n",
    " 'yours',\n",
    " 'yourself',\n",
    " 'yourselves'}\n",
    "\n",
    "def clean_document2(doco):\n",
    "    ## Remove stop words\n",
    "    doco = [w for w in doco if not w in stopwords]\n",
    "    \n",
    "    stemmer = SnowballStemmer('english')\n",
    "    doco = [stemmer.stem(word) for word in doco]\n",
    "\n",
    "    return doco"
   ]
  },
  {
   "cell_type": "code",
   "execution_count": 6,
   "metadata": {},
   "outputs": [
    {
     "data": {
      "text/plain": [
       "'pizza was okay not best had prefer biaggio flamingo fort apache chef can make much better ny style pizza pizzeria cosmo was priced quality lack personality food biaggio is much better pick youre going italian family owned home made recipes people actually care like food dont get pizzeria casino dont care say'"
      ]
     },
     "execution_count": 6,
     "metadata": {},
     "output_type": "execute_result"
    }
   ],
   "source": [
    "review_cleans2 = [clean_document2(doc) for doc in review_cleans];\n",
    "review_cleans = review_cleans2\n",
    "' '.join(review_cleans[0])"
   ]
  },
  {
   "cell_type": "code",
   "execution_count": 7,
   "metadata": {},
   "outputs": [
    {
     "data": {
      "text/plain": [
       "'pizza was okay not best had prefer biaggio flamingo fort apache chef can make much better ny style pizza pizzeria cosmo was priced quality lack personality food biaggio is much better pick youre going italian family owned home made recipes people actually care like food dont get pizzeria casino dont care say'"
      ]
     },
     "execution_count": 7,
     "metadata": {},
     "output_type": "execute_result"
    }
   ],
   "source": [
    "sentences = [' '.join(r) for r in review_cleans]\n",
    "sentences[0]"
   ]
  },
  {
   "cell_type": "code",
   "execution_count": 8,
   "metadata": {},
   "outputs": [
    {
     "data": {
      "text/plain": [
       "'116 1 461 4 53 7 1484 20912 4351 6184 7241 584 27 65 67 73 2100 536 116 4651 5383 1 542 151 738 2447 10 20912 3 67 73 396 7518 60 683 209 1479 131 69 4668 55 216 165 21 10 849 20 4651 933 849 165 93'"
      ]
     },
     "execution_count": 8,
     "metadata": {},
     "output_type": "execute_result"
    }
   ],
   "source": [
    "# Use a Keras Tokenizer and fit on the sentences\n",
    "tokenizer = Tokenizer();\n",
    "tokenizer.fit_on_texts(sentences);\n",
    "reviews_encoded = np.array(tokenizer.texts_to_sequences(sentences));\n",
    "' '.join(map(str,reviews_encoded[0]))"
   ]
  },
  {
   "cell_type": "code",
   "execution_count": 9,
   "metadata": {},
   "outputs": [],
   "source": [
    "sequence_dict = tokenizer.word_index;\n",
    "# reverse - index to word\n",
    "word_dict = dict((num, val) for (val, num) in sequence_dict.items());"
   ]
  },
  {
   "cell_type": "code",
   "execution_count": 10,
   "metadata": {},
   "outputs": [],
   "source": [
    "#for i,(a,b) in enumerate(zip(reviews_encoded,text_sequences)):\n",
    "#    if (a!=b):\n",
    "#        print(review_cleans[i])"
   ]
  },
  {
   "cell_type": "code",
   "execution_count": 11,
   "metadata": {},
   "outputs": [
    {
     "data": {
      "image/png": "[encoded data removed]",
      "text/plain": [
       "<Figure size 432x288 with 1 Axes>"
      ]
     },
     "metadata": {
      "needs_background": "light"
     },
     "output_type": "display_data"
    }
   ],
   "source": [
    "# Plot a Histogram of length of reviews\n",
    "lengths = [len(x) for x in reviews_encoded];\n",
    "plt.hist(lengths, bins=range(200))\n",
    "plt.show()"
   ]
  },
  {
   "cell_type": "code",
   "execution_count": 12,
   "metadata": {},
   "outputs": [],
   "source": [
    "# Truncate and Pad reviews at a Maximum cap of 60 words.\n",
    "max_cap = 60;\n",
    "X = pad_sequences(reviews_encoded, maxlen=max_cap, truncating='post')"
   ]
  },
  {
   "cell_type": "code",
   "execution_count": 13,
   "metadata": {},
   "outputs": [
    {
     "data": {
      "text/plain": [
       "'0 0 0 0 0 0 0 0 pizza was okay not best had prefer biaggio flamingo fort apache chef can make much better ny style pizza pizzeria cosmo was priced quality lack personality food biaggio is much better pick youre going italian family owned home made recipes people actually care like food dont get pizzeria casino dont care say'"
      ]
     },
     "execution_count": 13,
     "metadata": {},
     "output_type": "execute_result"
    }
   ],
   "source": [
    "' '.join(list(map(lambda x: word_dict[x] if x>0 else '0', X[0])))"
   ]
  },
  {
   "cell_type": "code",
   "execution_count": 14,
   "metadata": {},
   "outputs": [
    {
     "data": {
      "text/plain": [
       "array([[0, 1],\n",
       "       [1, 0],\n",
       "       [0, 1],\n",
       "       ...,\n",
       "       [0, 1],\n",
       "       [0, 1],\n",
       "       [0, 1]])"
      ]
     },
     "execution_count": 14,
     "metadata": {},
     "output_type": "execute_result"
    }
   ],
   "source": [
    "# Obtain a One-hot Y array for each review label.\n",
    "Y = np.array([[0,1] if '0' in label else [1,0] for label in labels])\n",
    "\n",
    "Y"
   ]
  },
  {
   "cell_type": "code",
   "execution_count": 15,
   "metadata": {},
   "outputs": [],
   "source": [
    "# Get a randomized sequence of positions to shuffle reviews\n",
    "np.random.seed(1024);\n",
    "random_posits = np.arange(len(X))\n",
    "np.random.shuffle(random_posits);\n",
    "\n",
    "# Shuffle X and Y\n",
    "X = X[random_posits];\n",
    "Y = Y[random_posits];"
   ]
  },
  {
   "cell_type": "code",
   "execution_count": 16,
   "metadata": {},
   "outputs": [],
   "source": [
    "# Divide the reviews into Training, Dev, and Test data.\n",
    "train_cap = int(0.85 * len(X));\n",
    "dev_cap = int(0.93 * len(X));\n",
    "\n",
    "X_train, Y_train = X[:train_cap], Y[:train_cap];\n",
    "X_dev, Y_dev = X[train_cap:dev_cap], Y[train_cap:dev_cap];\n",
    "X_test, Y_test = X[dev_cap:], Y[dev_cap:]\n"
   ]
  },
  {
   "cell_type": "code",
   "execution_count": 20,
   "metadata": {},
   "outputs": [],
   "source": [
    "def initializeModel():\n",
    "    model = Sequential();\n",
    "    model.add(Embedding(len(word_dict)+1, max_cap, input_length=max_cap));\n",
    "    model.add(LSTM(50, return_sequences=True, recurrent_dropout=0.6));\n",
    "    model.add(Dropout(0.6))\n",
    "    model.add(LSTM(50, recurrent_dropout=0.6));\n",
    "    model.add(Dense(50, activation='relu'));\n",
    "    model.add(Dense(2, activation='softmax'));\n",
    "    return model"
   ]
  },
  {
   "cell_type": "code",
   "execution_count": 21,
   "metadata": {},
   "outputs": [],
   "source": [
    "#from IPython.display import SVG\n",
    "#from keras.utils.vis_utils import model_to_dot\n",
    "#SVG(model_to_dot(model, show_shapes=True).create(prog='dot', format='svg'))\n"
   ]
  },
  {
   "cell_type": "code",
   "execution_count": 23,
   "metadata": {},
   "outputs": [
    {
     "name": "stdout",
     "output_type": "stream",
     "text": [
      "Epoch 1/3\n",
      "12750/12750 [==============================] - 23s 2ms/step - loss: 0.4621 - acc: 0.7869\n",
      "Epoch 2/3\n",
      "12750/12750 [==============================] - 21s 2ms/step - loss: 0.2089 - acc: 0.9237\n",
      "Epoch 3/3\n",
      "12750/12750 [==============================] - 20s 2ms/step - loss: 0.1312 - acc: 0.9549\n",
      "val acc:\n",
      "Epoch 1/3\n",
      "41437/41437 [==============================] - 70s 2ms/step - loss: 0.3377 - acc: 0.8496\n",
      "Epoch 2/3\n",
      "41437/41437 [==============================] - 68s 2ms/step - loss: 0.1838 - acc: 0.9333\n",
      "Epoch 3/3\n",
      "41437/41437 [==============================] - 68s 2ms/step - loss: 0.1336 - acc: 0.9541\n",
      "val acc:\n",
      "Epoch 1/3\n",
      "70125/70125 [==============================] - 119s 2ms/step - loss: 0.2993 - acc: 0.8760\n",
      "Epoch 2/3\n",
      "70125/70125 [==============================] - 116s 2ms/step - loss: 0.1720 - acc: 0.9377\n",
      "Epoch 3/3\n",
      "70125/70125 [==============================] - 116s 2ms/step - loss: 0.1285 - acc: 0.9547\n",
      "val acc:\n",
      "Epoch 1/3\n",
      "98812/98812 [==============================] - 167s 2ms/step - loss: 0.2735 - acc: 0.8858\n",
      "Epoch 2/3\n",
      "98812/98812 [==============================] - 164s 2ms/step - loss: 0.1598 - acc: 0.9411\n",
      "Epoch 3/3\n",
      "98812/98812 [==============================] - 165s 2ms/step - loss: 0.1213 - acc: 0.9561\n",
      "val acc:\n",
      "Epoch 1/3\n",
      "127500/127500 [==============================] - 218s 2ms/step - loss: 0.2583 - acc: 0.8971\n",
      "Epoch 2/3\n",
      "127500/127500 [==============================] - 222s 2ms/step - loss: 0.1578 - acc: 0.9421\n",
      "Epoch 3/3\n",
      "127500/127500 [==============================] - 217s 2ms/step - loss: 0.1215 - acc: 0.9561\n",
      "val acc:\n"
     ]
    }
   ],
   "source": [
    "# Divide the reviews into Training, Dev, and Test data.\n",
    "import math\n",
    "train_cap = int(0.85 * len(X));\n",
    "dev_cap = int(0.93 * len(X));\n",
    "\n",
    "X_train, Y_train = X[:train_cap], Y[:train_cap];\n",
    "X_dev, Y_dev = X[train_cap:dev_cap], Y[train_cap:dev_cap];\n",
    "X_test, Y_test = X[dev_cap:], Y[dev_cap:]\n",
    "\n",
    "train_sizes = [math.floor(i * len(X_train)) for i in np.linspace(0.1, 1.0, 5)]\n",
    "train_scores = []\n",
    "test_scores = []\n",
    "for ts in train_sizes:\n",
    "    model = initializeModel()\n",
    "    optimizer = Adam(lr=0.001, decay=0.0001);\n",
    "    X_train_sub = X[:ts]\n",
    "    Y_train_sub = Y[:ts]\n",
    "    model.compile(loss='binary_crossentropy', optimizer=optimizer, metrics=['accuracy'])\n",
    "    # fit model\n",
    "    history = model.fit(X_train_sub, Y_train_sub, batch_size=128, epochs=3)\n",
    "    # Obtain predictions\n",
    "    predictions = model.predict_classes(X_dev)\n",
    "\n",
    "    # Convert Y_test to the same format as predictions\n",
    "    print(\"val acc:\")\n",
    "    actuals = [0 if y[0] == 1 else 1 for y in Y_dev];\n",
    "\n",
    "    # Use SkLearn's Metrics module\n",
    "    accuracy = (accuracy_score(predictions, actuals))\n",
    "    test_scores = test_scores + [[accuracy]]\n",
    "    train_scores = train_scores + [[history.history['acc'][len(history.history['acc'])-1]]]"
   ]
  },
  {
   "cell_type": "code",
   "execution_count": 24,
   "metadata": {},
   "outputs": [
    {
     "name": "stdout",
     "output_type": "stream",
     "text": [
      "\n",
      "Separate line data into reviews and labels\n",
      "\n"
     ]
    }
   ],
   "source": [
    "print(__doc__)\n",
    "\n",
    "import numpy as np\n",
    "import matplotlib.pyplot as plt\n",
    "from sklearn.naive_bayes import GaussianNB\n",
    "from sklearn.svm import SVC\n",
    "from sklearn.datasets import load_digits\n",
    "from sklearn.model_selection import learning_curve\n",
    "from sklearn.model_selection import ShuffleSplit\n",
    "\n",
    "\n",
    "def plot_learning_curve(title, train_sizes,train_scores,test_scores, ylim=(0.80, 1.01)):\n",
    "    \"\"\"\n",
    "    Generate a simple plot of the test and training learning curve.\n",
    "\n",
    "    Parameters\n",
    "    ----------\n",
    "    estimator : object type that implements the \"fit\" and \"predict\" methods\n",
    "        An object of that type which is cloned for each validation.\n",
    "\n",
    "    title : string\n",
    "        Title for the chart.\n",
    "\n",
    "    X : array-like, shape (n_samples, n_features)\n",
    "        Training vector, where n_samples is the number of samples and\n",
    "        n_features is the number of features.\n",
    "\n",
    "    y : array-like, shape (n_samples) or (n_samples, n_features), optional\n",
    "        Target relative to X for classification or regression;\n",
    "        None for unsupervised learning.\n",
    "\n",
    "    ylim : tuple, shape (ymin, ymax), optional\n",
    "        Defines minimum and maximum yvalues plotted.\n",
    "\n",
    "    cv : int, cross-validation generator or an iterable, optional\n",
    "        Determines the cross-validation splitting strategy.\n",
    "        Possible inputs for cv are:\n",
    "          - None, to use the default 3-fold cross-validation,\n",
    "          - integer, to specify the number of folds.\n",
    "          - :term:`CV splitter`,\n",
    "          - An iterable yielding (train, test) splits as arrays of indices.\n",
    "\n",
    "        For integer/None inputs, if ``y`` is binary or multiclass,\n",
    "        :class:`StratifiedKFold` used. If the estimator is not a classifier\n",
    "        or if ``y`` is neither binary nor multiclass, :class:`KFold` is used.\n",
    "\n",
    "        Refer :ref:`User Guide <cross_validation>` for the various\n",
    "        cross-validators that can be used here.\n",
    "\n",
    "    n_jobs : int or None, optional (default=None)\n",
    "        Number of jobs to run in parallel.\n",
    "        ``None`` means 1 unless in a :obj:`joblib.parallel_backend` context.\n",
    "        ``-1`` means using all processors. See :term:`Glossary <n_jobs>`\n",
    "        for more details.\n",
    "\n",
    "    train_sizes : array-like, shape (n_ticks,), dtype float or int\n",
    "        Relative or absolute numbers of training examples that will be used to\n",
    "        generate the learning curve. If the dtype is float, it is regarded as a\n",
    "        fraction of the maximum size of the training set (that is determined\n",
    "        by the selected validation method), i.e. it has to be within (0, 1].\n",
    "        Otherwise it is interpreted as absolute sizes of the training sets.\n",
    "        Note that for classification the number of samples usually have to\n",
    "        be big enough to contain at least one sample from each class.\n",
    "        (default: np.linspace(0.1, 1.0, 5))\n",
    "    \"\"\"\n",
    "    plt.figure()\n",
    "    plt.title(title)\n",
    "    if ylim is not None:\n",
    "        plt.ylim(*ylim)\n",
    "    plt.xlabel(\"Training examples\")\n",
    "    plt.ylabel(\"Score\")\n",
    "    \n",
    "    \n",
    "    \n",
    "    train_scores_mean = np.mean(train_scores, axis=1)\n",
    "    train_scores_std = np.std(train_scores, axis=1)\n",
    "    test_scores_mean = np.mean(test_scores, axis=1)\n",
    "    test_scores_std = np.std(test_scores, axis=1)\n",
    "    plt.grid()\n",
    "\n",
    "    plt.fill_between(train_sizes, train_scores_mean - train_scores_std,\n",
    "                     train_scores_mean + train_scores_std, alpha=0.1,\n",
    "                     color=\"r\")\n",
    "    plt.fill_between(train_sizes, test_scores_mean - test_scores_std,\n",
    "                     test_scores_mean + test_scores_std, alpha=0.1, color=\"g\")\n",
    "    plt.plot(train_sizes, train_scores_mean, 'o-', color=\"r\",\n",
    "             label=\"Training score\")\n",
    "    plt.plot(train_sizes, test_scores_mean, 'o-', color=\"g\",\n",
    "             label=\"Cross-validation score\")\n",
    "\n",
    "    plt.legend(loc=\"best\")\n",
    "    return plt\n",
    "\n",
    "\n"
   ]
  },
  {
   "cell_type": "code",
   "execution_count": 29,
   "metadata": {},
   "outputs": [
    {
     "data": {
      "image/png": "[encoded data removed]",
      "text/plain": [
       "<Figure size 432x288 with 1 Axes>"
      ]
     },
     "metadata": {
      "needs_background": "light"
     },
     "output_type": "display_data"
    }
   ],
   "source": [
    "test_scores_2 = [[s] for s in train_scores]\n",
    "train_scores_2 = [[s] for s in test_scores]\n",
    "plot_learning_curve(\"model 1\", train_sizes,train_scores_2,test_scores_2, ylim=(0.85, 1.01))\n",
    "plt.show()"
   ]
  },
  {
   "cell_type": "code",
   "execution_count": 31,
   "metadata": {},
   "outputs": [
    {
     "data": {
      "text/plain": [
       "[0.9549019608030133,\n",
       " 0.9541231266325135,\n",
       " 0.9547237076708339,\n",
       " 0.956068088888847,\n",
       " 0.9560941176489288]"
      ]
     },
     "execution_count": 31,
     "metadata": {},
     "output_type": "execute_result"
    }
   ],
   "source": [
    "test_scores\n",
    "# messed up, should be train score"
   ]
  },
  {
   "cell_type": "code",
   "execution_count": 30,
   "metadata": {},
   "outputs": [
    {
     "data": {
      "text/plain": [
       "[0.8740833333333333,\n",
       " 0.9121666666666667,\n",
       " 0.9256666666666666,\n",
       " 0.9273333333333333,\n",
       " 0.9295]"
      ]
     },
     "execution_count": 30,
     "metadata": {},
     "output_type": "execute_result"
    }
   ],
   "source": [
    "train_scores\n",
    "# messed up, should be test score"
   ]
  },
  {
   "cell_type": "code",
   "execution_count": null,
   "metadata": {},
   "outputs": [],
   "source": [
    " "
   ]
  }
 ],
 "metadata": {
  "kernelspec": {
   "display_name": "Python 3",
   "language": "python",
   "name": "python3"
  },
  "language_info": {
   "codemirror_mode": {
    "name": "ipython",
    "version": 3
   },
   "file_extension": ".py",
   "mimetype": "text/x-python",
   "name": "python",
   "nbconvert_exporter": "python",
   "pygments_lexer": "ipython3",
   "version": "3.6.6"
  }
 },
 "nbformat": 4,
 "nbformat_minor": 2
}
